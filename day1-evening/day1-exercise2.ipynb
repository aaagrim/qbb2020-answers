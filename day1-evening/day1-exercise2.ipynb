{
 "cells": [
  {
   "cell_type": "code",
   "execution_count": 5,
   "metadata": {},
   "outputs": [
    {
     "name": "stdout",
     "output_type": "stream",
     "text": [
      "# of perfect alignments: 929\n"
     ]
    }
   ],
   "source": [
    "import sys\n",
    "\n",
    "perfect = 0\n",
    "f = open('debug.sam') #Utilizing the debug.sam for speed\n",
    "\n",
    "for line in f:\n",
    "    alignment = line.rstrip('\\n\\r').split() #Change the line into a list\n",
    "    for value in alignment:\n",
    "        if value == 'NM:i:0': #A perfect read should have zero mismatch so NM:i:0\n",
    "            perfect += 1 #Count value as a perfect alignment\n",
    "\n",
    "print('# of perfect alignments:', perfect)"
   ]
  }
 ],
 "metadata": {
  "kernelspec": {
   "display_name": "Python 3",
   "language": "python",
   "name": "python3"
  },
  "language_info": {
   "codemirror_mode": {
    "name": "ipython",
    "version": 3
   },
   "file_extension": ".py",
   "mimetype": "text/x-python",
   "name": "python",
   "nbconvert_exporter": "python",
   "pygments_lexer": "ipython3",
   "version": "3.6.10"
  }
 },
 "nbformat": 4,
 "nbformat_minor": 4
}
