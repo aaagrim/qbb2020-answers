{
 "cells": [
  {
   "cell_type": "code",
   "execution_count": 10,
   "metadata": {},
   "outputs": [
    {
     "name": "stdout",
     "output_type": "stream",
     "text": [
      "2L\n",
      "2L\n",
      "2L\n",
      "2L\n",
      "2L\n",
      "2L\n",
      "2L\n",
      "2L\n",
      "2L\n",
      "2L\n"
     ]
    }
   ],
   "source": [
    "import sys\n",
    "\n",
    "perfect = 0\n",
    "f = open('debug.sam') # using debug.sam for speed\n",
    "count = 0\n",
    "\n",
    "for line in f:\n",
    "    alignment = line.rstrip('\\n\\r').split()\n",
    "    print(alignment[2])\n",
    "    count += 1\n",
    "    if count == 10: \n",
    "        break\n"
   ]
  }
 ],
 "metadata": {
  "kernelspec": {
   "display_name": "Python 3",
   "language": "python",
   "name": "python3"
  },
  "language_info": {
   "codemirror_mode": {
    "name": "ipython",
    "version": 3
   },
   "file_extension": ".py",
   "mimetype": "text/x-python",
   "name": "python",
   "nbconvert_exporter": "python",
   "pygments_lexer": "ipython3",
   "version": "3.6.10"
  }
 },
 "nbformat": 4,
 "nbformat_minor": 4
}
