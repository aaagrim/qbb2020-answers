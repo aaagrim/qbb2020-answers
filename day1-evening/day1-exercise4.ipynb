{
 "cells": [
  {
   "cell_type": "code",
   "execution_count": 6,
   "metadata": {},
   "outputs": [
    {
     "name": "stdout",
     "output_type": "stream",
     "text": [
      "59.289\n"
     ]
    }
   ],
   "source": [
    "import sys\n",
    "\n",
    "mapq = 0\n",
    "count = 0\n",
    "f = open('debug.sam') # using debug.sam for speed\n",
    "\n",
    "for line in f:\n",
    "    alignment = line.rstrip('\\n\\r').split()#split into list\n",
    "    quality = alignment[4] \n",
    "    quality = int(quality) #cover from string to integer\n",
    "    mapq = mapq + quality #add to total value\n",
    "    count += 1\n",
    "\n",
    "mean = mapq / count #Take the average over all counts\n",
    "\n",
    "print(mean)"
   ]
  }
 ],
 "metadata": {
  "kernelspec": {
   "display_name": "Python 3",
   "language": "python",
   "name": "python3"
  },
  "language_info": {
   "codemirror_mode": {
    "name": "ipython",
    "version": 3
   },
   "file_extension": ".py",
   "mimetype": "text/x-python",
   "name": "python",
   "nbconvert_exporter": "python",
   "pygments_lexer": "ipython3",
   "version": "3.6.10"
  }
 },
 "nbformat": 4,
 "nbformat_minor": 4
}
