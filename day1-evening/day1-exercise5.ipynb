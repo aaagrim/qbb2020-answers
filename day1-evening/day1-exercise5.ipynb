{
 "cells": [
  {
   "cell_type": "code",
   "execution_count": 4,
   "metadata": {},
   "outputs": [
    {
     "name": "stdout",
     "output_type": "stream",
     "text": [
      "Starts on 2L between 10000 and 20000: 985\n"
     ]
    }
   ],
   "source": [
    "import sys\n",
    "\n",
    "perfect = 0\n",
    "f = open('debug.sam') # using debug.sam for speed\n",
    "count = 0\n",
    "\n",
    "for line in f:\n",
    "    alignment = line.rstrip('\\n\\r').split()\n",
    "    if alignment[2] == '2L': #check the chromosome\n",
    "        alignment[3] = int(alignment[3]) # convert string to integer \n",
    "        if alignment[3] >= 10000 and alignment[3] <= 20000: #checks if value falls between 10000 and 20000\n",
    "            count += 1\n",
    "        \n",
    "print(\"Starts on 2L between 10000 and 20000:\", count)\n",
    "    "
   ]
  }
 ],
 "metadata": {
  "kernelspec": {
   "display_name": "Python 3",
   "language": "python",
   "name": "python3"
  },
  "language_info": {
   "codemirror_mode": {
    "name": "ipython",
    "version": 3
   },
   "file_extension": ".py",
   "mimetype": "text/x-python",
   "name": "python",
   "nbconvert_exporter": "python",
   "pygments_lexer": "ipython3",
   "version": "3.6.10"
  }
 },
 "nbformat": 4,
 "nbformat_minor": 4
}
