{
 "cells": [
  {
   "cell_type": "markdown",
   "metadata": {},
   "source": [
    "# Import Libraries"
   ]
  },
  {
   "cell_type": "code",
   "execution_count": 1,
   "metadata": {},
   "outputs": [],
   "source": [
    "import numpy as np\n",
    "import pandas as pd\n",
    "import matplotlib.pyplot as plt"
   ]
  },
  {
   "cell_type": "markdown",
   "metadata": {},
   "source": [
    "# Load bed file"
   ]
  },
  {
   "cell_type": "code",
   "execution_count": 2,
   "metadata": {},
   "outputs": [
    {
     "data": {
      "text/html": [
       "<div>\n",
       "<style scoped>\n",
       "    .dataframe tbody tr th:only-of-type {\n",
       "        vertical-align: middle;\n",
       "    }\n",
       "\n",
       "    .dataframe tbody tr th {\n",
       "        vertical-align: top;\n",
       "    }\n",
       "\n",
       "    .dataframe thead th {\n",
       "        text-align: right;\n",
       "    }\n",
       "</style>\n",
       "<table border=\"1\" class=\"dataframe\">\n",
       "  <thead>\n",
       "    <tr style=\"text-align: right;\">\n",
       "      <th></th>\n",
       "      <th>chr</th>\n",
       "      <th>start</th>\n",
       "      <th>end</th>\n",
       "    </tr>\n",
       "  </thead>\n",
       "  <tbody>\n",
       "    <tr>\n",
       "      <th>0</th>\n",
       "      <td>3L</td>\n",
       "      <td>15823270</td>\n",
       "      <td>15830715</td>\n",
       "    </tr>\n",
       "    <tr>\n",
       "      <th>1</th>\n",
       "      <td>2R</td>\n",
       "      <td>11451787</td>\n",
       "      <td>11459612</td>\n",
       "    </tr>\n",
       "    <tr>\n",
       "      <th>2</th>\n",
       "      <td>3R</td>\n",
       "      <td>21665759</td>\n",
       "      <td>21673392</td>\n",
       "    </tr>\n",
       "    <tr>\n",
       "      <th>3</th>\n",
       "      <td>2R</td>\n",
       "      <td>20324929</td>\n",
       "      <td>20331038</td>\n",
       "    </tr>\n",
       "    <tr>\n",
       "      <th>4</th>\n",
       "      <td>3R</td>\n",
       "      <td>19859679</td>\n",
       "      <td>19864278</td>\n",
       "    </tr>\n",
       "    <tr>\n",
       "      <th>...</th>\n",
       "      <td>...</td>\n",
       "      <td>...</td>\n",
       "      <td>...</td>\n",
       "    </tr>\n",
       "    <tr>\n",
       "      <th>3825</th>\n",
       "      <td>3R</td>\n",
       "      <td>565835</td>\n",
       "      <td>566082</td>\n",
       "    </tr>\n",
       "    <tr>\n",
       "      <th>3826</th>\n",
       "      <td>2L</td>\n",
       "      <td>10439373</td>\n",
       "      <td>10442085</td>\n",
       "    </tr>\n",
       "    <tr>\n",
       "      <th>3827</th>\n",
       "      <td>3R</td>\n",
       "      <td>4477321</td>\n",
       "      <td>4479529</td>\n",
       "    </tr>\n",
       "    <tr>\n",
       "      <th>3828</th>\n",
       "      <td>3L</td>\n",
       "      <td>711347</td>\n",
       "      <td>711871</td>\n",
       "    </tr>\n",
       "    <tr>\n",
       "      <th>3829</th>\n",
       "      <td>2L</td>\n",
       "      <td>6792695</td>\n",
       "      <td>6795077</td>\n",
       "    </tr>\n",
       "  </tbody>\n",
       "</table>\n",
       "<p>3830 rows × 3 columns</p>\n",
       "</div>"
      ],
      "text/plain": [
       "     chr     start       end\n",
       "0     3L  15823270  15830715\n",
       "1     2R  11451787  11459612\n",
       "2     3R  21665759  21673392\n",
       "3     2R  20324929  20331038\n",
       "4     3R  19859679  19864278\n",
       "...   ..       ...       ...\n",
       "3825  3R    565835    566082\n",
       "3826  2L  10439373  10442085\n",
       "3827  3R   4477321   4479529\n",
       "3828  3L    711347    711871\n",
       "3829  2L   6792695   6795077\n",
       "\n",
       "[3830 rows x 3 columns]"
      ]
     },
     "execution_count": 2,
     "metadata": {},
     "output_type": "execute_result"
    }
   ],
   "source": [
    "bed_columns = [\"chr\", \"start\", \"end\"]\n",
    "df_k4 = pd.read_table( \"../../qbb2020/data/K4me3.bed\", names=bed_columns )\n",
    "df_k4"
   ]
  },
  {
   "cell_type": "code",
   "execution_count": 3,
   "metadata": {},
   "outputs": [
    {
     "data": {
      "text/html": [
       "<div>\n",
       "<style scoped>\n",
       "    .dataframe tbody tr th:only-of-type {\n",
       "        vertical-align: middle;\n",
       "    }\n",
       "\n",
       "    .dataframe tbody tr th {\n",
       "        vertical-align: top;\n",
       "    }\n",
       "\n",
       "    .dataframe thead th {\n",
       "        text-align: right;\n",
       "    }\n",
       "</style>\n",
       "<table border=\"1\" class=\"dataframe\">\n",
       "  <thead>\n",
       "    <tr style=\"text-align: right;\">\n",
       "      <th></th>\n",
       "      <th>chr</th>\n",
       "      <th>start</th>\n",
       "      <th>end</th>\n",
       "      <th>width</th>\n",
       "    </tr>\n",
       "  </thead>\n",
       "  <tbody>\n",
       "    <tr>\n",
       "      <th>0</th>\n",
       "      <td>3L</td>\n",
       "      <td>15823270</td>\n",
       "      <td>15830715</td>\n",
       "      <td>7445</td>\n",
       "    </tr>\n",
       "    <tr>\n",
       "      <th>1</th>\n",
       "      <td>2R</td>\n",
       "      <td>11451787</td>\n",
       "      <td>11459612</td>\n",
       "      <td>7825</td>\n",
       "    </tr>\n",
       "    <tr>\n",
       "      <th>2</th>\n",
       "      <td>3R</td>\n",
       "      <td>21665759</td>\n",
       "      <td>21673392</td>\n",
       "      <td>7633</td>\n",
       "    </tr>\n",
       "    <tr>\n",
       "      <th>3</th>\n",
       "      <td>2R</td>\n",
       "      <td>20324929</td>\n",
       "      <td>20331038</td>\n",
       "      <td>6109</td>\n",
       "    </tr>\n",
       "    <tr>\n",
       "      <th>4</th>\n",
       "      <td>3R</td>\n",
       "      <td>19859679</td>\n",
       "      <td>19864278</td>\n",
       "      <td>4599</td>\n",
       "    </tr>\n",
       "    <tr>\n",
       "      <th>...</th>\n",
       "      <td>...</td>\n",
       "      <td>...</td>\n",
       "      <td>...</td>\n",
       "      <td>...</td>\n",
       "    </tr>\n",
       "    <tr>\n",
       "      <th>3825</th>\n",
       "      <td>3R</td>\n",
       "      <td>565835</td>\n",
       "      <td>566082</td>\n",
       "      <td>247</td>\n",
       "    </tr>\n",
       "    <tr>\n",
       "      <th>3826</th>\n",
       "      <td>2L</td>\n",
       "      <td>10439373</td>\n",
       "      <td>10442085</td>\n",
       "      <td>2712</td>\n",
       "    </tr>\n",
       "    <tr>\n",
       "      <th>3827</th>\n",
       "      <td>3R</td>\n",
       "      <td>4477321</td>\n",
       "      <td>4479529</td>\n",
       "      <td>2208</td>\n",
       "    </tr>\n",
       "    <tr>\n",
       "      <th>3828</th>\n",
       "      <td>3L</td>\n",
       "      <td>711347</td>\n",
       "      <td>711871</td>\n",
       "      <td>524</td>\n",
       "    </tr>\n",
       "    <tr>\n",
       "      <th>3829</th>\n",
       "      <td>2L</td>\n",
       "      <td>6792695</td>\n",
       "      <td>6795077</td>\n",
       "      <td>2382</td>\n",
       "    </tr>\n",
       "  </tbody>\n",
       "</table>\n",
       "<p>3830 rows × 4 columns</p>\n",
       "</div>"
      ],
      "text/plain": [
       "     chr     start       end  width\n",
       "0     3L  15823270  15830715   7445\n",
       "1     2R  11451787  11459612   7825\n",
       "2     3R  21665759  21673392   7633\n",
       "3     2R  20324929  20331038   6109\n",
       "4     3R  19859679  19864278   4599\n",
       "...   ..       ...       ...    ...\n",
       "3825  3R    565835    566082    247\n",
       "3826  2L  10439373  10442085   2712\n",
       "3827  3R   4477321   4479529   2208\n",
       "3828  3L    711347    711871    524\n",
       "3829  2L   6792695   6795077   2382\n",
       "\n",
       "[3830 rows x 4 columns]"
      ]
     },
     "execution_count": 3,
     "metadata": {},
     "output_type": "execute_result"
    }
   ],
   "source": [
    "df_k4.loc[:,\"width\"] = df_k4.loc[:,\"end\"] - df_k4.loc[:, \"start\"]\n",
    "df_k4"
   ]
  },
  {
   "cell_type": "code",
   "execution_count": 4,
   "metadata": {},
   "outputs": [
    {
     "data": {
      "text/plain": [
       "pandas.core.frame.DataFrame"
      ]
     },
     "execution_count": 4,
     "metadata": {},
     "output_type": "execute_result"
    }
   ],
   "source": [
    "type( df_k4 )"
   ]
  },
  {
   "cell_type": "markdown",
   "metadata": {},
   "source": [
    "# Work with data frames"
   ]
  },
  {
   "cell_type": "code",
   "execution_count": 5,
   "metadata": {},
   "outputs": [
    {
     "data": {
      "text/plain": [
       "Index(['chr', 'start', 'end', 'width'], dtype='object')"
      ]
     },
     "execution_count": 5,
     "metadata": {},
     "output_type": "execute_result"
    }
   ],
   "source": [
    "df_k4.columns"
   ]
  },
  {
   "cell_type": "code",
   "execution_count": 6,
   "metadata": {},
   "outputs": [
    {
     "data": {
      "text/plain": [
       "RangeIndex(start=0, stop=3830, step=1)"
      ]
     },
     "execution_count": 6,
     "metadata": {},
     "output_type": "execute_result"
    }
   ],
   "source": [
    "df_k4.index"
   ]
  },
  {
   "cell_type": "code",
   "execution_count": 7,
   "metadata": {},
   "outputs": [
    {
     "data": {
      "text/plain": [
       "array([['3L', 15823270, 15830715, 7445],\n",
       "       ['2R', 11451787, 11459612, 7825],\n",
       "       ['3R', 21665759, 21673392, 7633],\n",
       "       ...,\n",
       "       ['3R', 4477321, 4479529, 2208],\n",
       "       ['3L', 711347, 711871, 524],\n",
       "       ['2L', 6792695, 6795077, 2382]], dtype=object)"
      ]
     },
     "execution_count": 7,
     "metadata": {},
     "output_type": "execute_result"
    }
   ],
   "source": [
    "df_k4.values"
   ]
  },
  {
   "cell_type": "code",
   "execution_count": 8,
   "metadata": {},
   "outputs": [
    {
     "data": {
      "text/plain": [
       "(3830, 4)"
      ]
     },
     "execution_count": 8,
     "metadata": {},
     "output_type": "execute_result"
    }
   ],
   "source": [
    "df_k4.shape"
   ]
  },
  {
   "cell_type": "code",
   "execution_count": 9,
   "metadata": {},
   "outputs": [
    {
     "data": {
      "text/plain": [
       "'3L'"
      ]
     },
     "execution_count": 9,
     "metadata": {},
     "output_type": "execute_result"
    }
   ],
   "source": [
    "df_k4.loc[0,\"chr\"]"
   ]
  },
  {
   "cell_type": "code",
   "execution_count": 10,
   "metadata": {},
   "outputs": [
    {
     "data": {
      "text/plain": [
       "0       3L\n",
       "1       2R\n",
       "2       3R\n",
       "3       2R\n",
       "4       3R\n",
       "        ..\n",
       "3825    3R\n",
       "3826    2L\n",
       "3827    3R\n",
       "3828    3L\n",
       "3829    2L\n",
       "Name: chr, Length: 3830, dtype: object"
      ]
     },
     "execution_count": 10,
     "metadata": {},
     "output_type": "execute_result"
    }
   ],
   "source": [
    "df_k4.loc[:,\"chr\"]"
   ]
  },
  {
   "cell_type": "markdown",
   "metadata": {},
   "source": [
    "# Chromosome"
   ]
  },
  {
   "cell_type": "code",
   "execution_count": 11,
   "metadata": {},
   "outputs": [
    {
     "data": {
      "text/plain": [
       "3R                     897\n",
       "2R                     799\n",
       "3L                     773\n",
       "2L                     713\n",
       "X                      580\n",
       "4                       65\n",
       "Y                        2\n",
       "Y_CP007111v1_random      1\n",
       "Name: chr, dtype: int64"
      ]
     },
     "execution_count": 11,
     "metadata": {},
     "output_type": "execute_result"
    }
   ],
   "source": [
    "chr_k4 = df_k4.loc[:,\"chr\"]\n",
    "chr_k4 = chr_k4.value_counts()\n",
    "chr_k4"
   ]
  },
  {
   "cell_type": "code",
   "execution_count": 12,
   "metadata": {},
   "outputs": [
    {
     "data": {
      "text/plain": [
       "pandas.core.series.Series"
      ]
     },
     "execution_count": 12,
     "metadata": {},
     "output_type": "execute_result"
    }
   ],
   "source": [
    "type( chr_k4 )"
   ]
  },
  {
   "cell_type": "code",
   "execution_count": 13,
   "metadata": {},
   "outputs": [
    {
     "data": {
      "text/plain": [
       "(8,)"
      ]
     },
     "execution_count": 13,
     "metadata": {},
     "output_type": "execute_result"
    }
   ],
   "source": [
    "chr_k4.shape"
   ]
  },
  {
   "cell_type": "code",
   "execution_count": 14,
   "metadata": {},
   "outputs": [
    {
     "data": {
      "text/plain": [
       "713"
      ]
     },
     "execution_count": 14,
     "metadata": {},
     "output_type": "execute_result"
    }
   ],
   "source": [
    "chr_k4.loc[\"2L\"]"
   ]
  },
  {
   "cell_type": "code",
   "execution_count": 15,
   "metadata": {},
   "outputs": [
    {
     "data": {
      "text/plain": [
       "2L    713\n",
       "2R    799\n",
       "Name: chr, dtype: int64"
      ]
     },
     "execution_count": 15,
     "metadata": {},
     "output_type": "execute_result"
    }
   ],
   "source": [
    "coi = [\"2L\", \"2R\"]\n",
    "chr_k4.loc[ coi ]"
   ]
  },
  {
   "cell_type": "code",
   "execution_count": 16,
   "metadata": {},
   "outputs": [
    {
     "data": {
      "text/plain": [
       "Index(['3R', '2R', '3L', '2L', 'X', '4', 'Y', 'Y_CP007111v1_random'], dtype='object')"
      ]
     },
     "execution_count": 16,
     "metadata": {},
     "output_type": "execute_result"
    }
   ],
   "source": [
    "chr_k4.index"
   ]
  },
  {
   "cell_type": "markdown",
   "metadata": {},
   "source": [
    "# Question 2 - Tidying up graphs"
   ]
  },
  {
   "cell_type": "code",
   "execution_count": 21,
   "metadata": {},
   "outputs": [
    {
     "data": {
      "image/png": "[encoded data removed]",
      "text/plain": [
       "<Figure size 432x288 with 1 Axes>"
      ]
     },
     "metadata": {
      "needs_background": "light"
     },
     "output_type": "display_data"
    }
   ],
   "source": [
    "fig, ax = plt.subplots()\n",
    "ax.bar(sorted(chr_k4.index), chr_k4 )\n",
    "ax.set_title( \"K4 Distribution\" )\n",
    "ax.set_xlabel( \"Chromosomes\" )\n",
    "ax.set_ylabel( \"reads\" )\n",
    "plt.show()"
   ]
  },
  {
   "cell_type": "markdown",
   "metadata": {},
   "source": [
    "# Question 2.1"
   ]
  },
  {
   "cell_type": "markdown",
   "metadata": {},
   "source": [
    "# Get the K9 and K27 data"
   ]
  },
  {
   "cell_type": "code",
   "execution_count": 26,
   "metadata": {},
   "outputs": [],
   "source": [
    "df_k9 = pd.read_table( \"../../qbb2020/data/K9me3.bed\", names=bed_columns )\n",
    "df_k9.loc[:,\"width\"] = df_k9.loc[:,\"end\"] - df_k9.loc[:, \"start\"]\n",
    "chr_k9 = df_k9.loc[:,\"chr\"]\n",
    "chr_k9 = chr_k9.value_counts()\n",
    "\n",
    "df_k27 = pd.read_table( \"../../qbb2020/data/K27me3.bed\", names=bed_columns )\n",
    "df_k27.loc[:,\"width\"] = df_k27.loc[:,\"end\"] - df_k27.loc[:, \"start\"]\n",
    "chr_k27 = df_k27.loc[:,\"chr\"]\n",
    "chr_k27 = chr_k27.value_counts()"
   ]
  },
  {
   "cell_type": "markdown",
   "metadata": {},
   "source": [
    "# Plot K4, K9, K27 distributions"
   ]
  },
  {
   "cell_type": "code",
   "execution_count": 48,
   "metadata": {},
   "outputs": [
    {
     "data": {
      "image/png": "[encoded data removed]",
      "text/plain": [
       "<Figure size 1080x1080 with 3 Axes>"
      ]
     },
     "metadata": {
      "needs_background": "light"
     },
     "output_type": "display_data"
    }
   ],
   "source": [
    "fig, ax = plt.subplots(3,figsize=(15,15))\n",
    "ax[0].bar( sorted(chr_k4.index), chr_k4  )\n",
    "ax[1].bar( sorted(chr_k9.index), chr_k9 )\n",
    "ax[2].bar( sorted(chr_k27.index), chr_k27 )\n",
    "\n",
    "ax[0].set_title( \"K4 distributions\" )\n",
    "ax[1].set_title( \"K9 distributions\" )\n",
    "ax[2].set_title( \"K29 distributions\" )\n",
    "#Label the individual graphs\n",
    "\n",
    "ax[0].set_xlabel( \"Chromosome\" )\n",
    "ax[1].set_xlabel( \"Chromosome\" )\n",
    "ax[2].set_xlabel( \"Chromosome\" )\n",
    "#label the x axsis\n",
    "\n",
    "ax[0].set_ylabel( \"reads\" )\n",
    "ax[1].set_ylabel( \"reads\" )\n",
    "ax[2].set_ylabel( \"reads\" )\n",
    "#label the y axsis\n",
    "\n",
    "fig.tight_layout()\n",
    "\n",
    "plt.show()"
   ]
  },
  {
   "cell_type": "markdown",
   "metadata": {},
   "source": [
    "# Question 2.2 plotting the width distribution"
   ]
  },
  {
   "cell_type": "code",
   "execution_count": 56,
   "metadata": {},
   "outputs": [
    {
     "data": {
      "image/png": "[encoded data removed]",
      "text/plain": [
       "<Figure size 1080x1080 with 3 Axes>"
      ]
     },
     "metadata": {
      "needs_background": "light"
     },
     "output_type": "display_data"
    }
   ],
   "source": [
    "wid_k4 = df_k4.loc[:,\"width\"]\n",
    "wid_k9 = df_k9.loc[:,\"width\"]\n",
    "wid_k27 = df_k27.loc[:,\"width\"]\n",
    "\n",
    "fig, ax = plt.subplots(3,figsize=(15,15))\n",
    "ax[0].bar( sorted(wid_k4.index), sorted(wid_k4)  )\n",
    "ax[1].bar( sorted(wid_k9.index), sorted(wid_k9) )\n",
    "ax[2].bar( sorted(wid_k27.index), sorted(wid_k27) )\n",
    "\n",
    "ax[0].set_title( \"K4 distributions\" )\n",
    "ax[1].set_title( \"K9 distributions\" )\n",
    "ax[2].set_title( \"K29 distributions\" )\n",
    "#Label the individual graphs\n",
    "\n",
    "\n",
    "ax[0].set_ylabel( \"Width\" )\n",
    "ax[1].set_ylabel( \"Width\" )\n",
    "ax[2].set_ylabel( \"Width\" )\n",
    "#label the y axsis\n",
    "\n",
    "fig.tight_layout()\n",
    "plt.show()"
   ]
  },
  {
   "cell_type": "code",
   "execution_count": null,
   "metadata": {},
   "outputs": [],
   "source": []
  }
 ],
 "metadata": {
  "kernelspec": {
   "display_name": "Python 3",
   "language": "python",
   "name": "python3"
  },
  "language_info": {
   "codemirror_mode": {
    "name": "ipython",
    "version": 3
   },
   "file_extension": ".py",
   "mimetype": "text/x-python",
   "name": "python",
   "nbconvert_exporter": "python",
   "pygments_lexer": "ipython3",
   "version": "3.6.10"
  }
 },
 "nbformat": 4,
 "nbformat_minor": 4
}
