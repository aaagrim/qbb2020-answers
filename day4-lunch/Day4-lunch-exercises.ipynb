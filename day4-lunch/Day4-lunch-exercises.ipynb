{
 "cells": [
  {
   "cell_type": "code",
   "execution_count": 41,
   "metadata": {},
   "outputs": [
    {
     "name": "stdout",
     "output_type": "stream",
     "text": [
      "Closest gene: \"tin\" Distance(bp): 27\n",
      "Tally: 11\n"
     ]
    }
   ],
   "source": [
    "features = open('BDGP6.Ensembl.81.gtf', 'r')\n",
    "\n",
    "ThreeR = []\n",
    "\n",
    "for i, line in enumerate(features):\n",
    "    if i <= 4:   #Ignore the header lines\n",
    "        continue\n",
    "    \n",
    "    columns = line.rstrip().split(';') #strip line so gene_biotype \"protein_coding\" is searchable\n",
    "    \n",
    "    if ' gene_biotype \"protein_coding\"' in columns:\n",
    "        columns_sub  = line.rstrip().split()\n",
    "        if '3R' in columns_sub and 'gene' in columns_sub: #Search for genes on chromosome 3R\n",
    "            gene_name = columns_sub[-5]   #pull out the gene_name, start, end\n",
    "            gene_name = gene_name.strip(';')\n",
    "            start = columns_sub[3]\n",
    "            end = columns_sub[4]\n",
    "            \n",
    "            ThreeR.append([gene_name,int(start),int(end)])\n",
    "\n",
    "lo = 0\n",
    "mid = int((len(ThreeR) - 1) / 2) #initiate starting search points\n",
    "high = (len(ThreeR) - 1)\n",
    "\n",
    "search_pos = 21378950\n",
    "\n",
    "tally = 0\n",
    "\n",
    "while True:\n",
    "    if high == lo + 1: #Runs when the position is between two genes\n",
    "        lo_distance = search_pos - ThreeR[lo][2]\n",
    "        high_distance = ThreeR[high][1] - search_pos\n",
    "        if lo_distance < high_distance:\n",
    "            print(\"Closest gene:\",ThreeR[lo][0], \"Distance(bp):\", lo_distance)\n",
    "        else:\n",
    "            print(\"Closest gene:\",ThreeR[high][0], \"Distance(bp):\", high_distance)\n",
    "        \n",
    "        break\n",
    "        \n",
    "    if search_pos < ThreeR[mid][1]: #Determines if position is less than mid\n",
    "        high = mid\n",
    "        mid = int((high+lo)/2)\n",
    "\n",
    "    elif search_pos > ThreeR[mid][2]: #Determines if position is more than mid\n",
    "        lo = mid\n",
    "        mid = int((lo + high)/2)\n",
    "\n",
    "    else:\n",
    "        print(ThreeR[mid][0])\n",
    "        \n",
    "        break\n",
    "    tally += 1 #counts how many times the while loop ran\n",
    "        \n",
    "print(\"Tally:\",tally )\n",
    "\n",
    "features.close()"
   ]
  }
 ],
 "metadata": {
  "kernelspec": {
   "display_name": "Python 3",
   "language": "python",
   "name": "python3"
  },
  "language_info": {
   "codemirror_mode": {
    "name": "ipython",
    "version": 3
   },
   "file_extension": ".py",
   "mimetype": "text/x-python",
   "name": "python",
   "nbconvert_exporter": "python",
   "pygments_lexer": "ipython3",
   "version": "3.6.10"
  }
 },
 "nbformat": 4,
 "nbformat_minor": 4
}
