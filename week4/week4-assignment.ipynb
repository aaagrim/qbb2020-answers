{
 "cells": [
  {
   "cell_type": "code",
   "execution_count": 1,
   "metadata": {},
   "outputs": [],
   "source": [
    "from fasta_iterator_class import FASTAReader\n",
    "import numpy as np\n",
    "import matplotlib.pyplot as plt\n",
    "import pandas as pd\n",
    "\n",
    "from scipy import stats\n",
    "\n",
    "aa_seq = FASTAReader(open(\"mas.fa\"))\n",
    "\n",
    "DNA_seq = FASTAReader(open(\"seqdump.txt\"))\n"
   ]
  },
  {
   "cell_type": "markdown",
   "metadata": {},
   "source": [
    "# Question 3"
   ]
  },
  {
   "cell_type": "code",
   "execution_count": 2,
   "metadata": {},
   "outputs": [],
   "source": [
    "#Making a dictory to store the sequence ID as the key, with the orginal sequence and translated sequence. \n",
    "sequence_dic = {}\n",
    "\n",
    "for seq_id, sequence in DNA_seq:\n",
    "    seq_id = seq_id.split()\n",
    "    sequence_dic.setdefault(seq_id[0], [sequence])\n",
    "    \n",
    "    \n",
    "for seq_id, sequence in aa_seq:\n",
    "    seq_id = seq_id.split()\n",
    "    sequence_dic[seq_id[0][:-2]].append(sequence) \n"
   ]
  },
  {
   "cell_type": "code",
   "execution_count": 3,
   "metadata": {
    "scrolled": false
   },
   "outputs": [],
   "source": [
    "#Going from translated sequence to a aligned nucleotide sequence \n",
    "for i, j in sequence_dic.items():\n",
    "    gap = ''\n",
    "    position = 0\n",
    "    amino_acids = j[1]\n",
    "    \n",
    "    for aa in amino_acids:\n",
    "        if aa == \"-\":\n",
    "            gap = gap + '---'#adding the gap\n",
    "        else:\n",
    "            gap = gap + j[0][position:position + 3]#will pull the 3 nucleotides(codon)\n",
    "            position += 3#will advance to the next codon position\n",
    "        \n",
    "    sequence_dic[i].append(gap) "
   ]
  },
  {
   "cell_type": "code",
   "execution_count": 4,
   "metadata": {},
   "outputs": [
    {
     "name": "stdout",
     "output_type": "stream",
     "text": [
      "---------------------------------------------------------------------------------------------------------------AGTAGTTCGCCTGTG------------------------------------------------------------------TGAGCTGACAAACTTAGTAGTGTT------------------TGTGAG---GATTAACAACAA------------------------TTAACACAGTGCGAGCTGTTTCTTGGCACGAAGATCTCGATGTCT------------------------AAGAAACCA---------GGAGGGCCCGGTAAAAACCGGGCTGTCAATATGCTAAAA---CGCGGT---ATGCCCCGCGGATTGTCCTTGATAGGA------------------------CTAAAGAGGGCTATGCTGAGT---------------------------------CTGATTGACGGGAAGGGCCCAATACGTTTCGTGTTGGCTCTTTTGGCGTTTTTCAGATTCACTGCAATC---GCTCCGACTCGTGCGGTGCTGGACAGATGGAGAGGCGTCAACAAACAAACAGCAATGAAGCATCTCTTGAGTTTCAAGAAAGAACTAGGAACTCTGACCAGTGCCATCAACCGCCGGAGCACAAAACAAAAGAAAAGAGGAGGCACAGCGGGCTTTACTATCTTGCTTGGGCTGATCGCCTGTGCTGGAGCTGTGACCCTCTCGAACTTCCAGGGCAAAGTGATGATGACAGTCAATGCAACCGATGTCACTGACGTGATTACCATTCCAACAGCTGCTGGGAAAAACCTGTGCATCGTAAGGGCTATGGACGTAGGATACCTTTGTGAGGATACTATCACTTATGAATGTCCGGTC---CTAGCTGCTGGAAATGACCCTGAAGACATTGACTGCTGGTGCACGAAATCATCTGTTTACGTGCGCTATGGAAGATGCACAAAAACTCGGCATTCCCGTCGAAGCAGAAGGTCTCTGACA---GTCCAGACACATGGAGAAAGTACACTGGCCAACAAGAAAGGAGCTTGGTTGGACAGCACAAAAGCCACGAGATATCTGGTGAAGACAGAATCATGGATACTGAGAAACCCGGGCTACGCCCTCGTTGCAGCTGTCATTGGATGGATGCTAGGAAGCAACACAATGCAACGCGTCGTGTTTGCCATTCTATTGCTCCTGGTGGCACCAGCATACAGCTTCAACTGTTTAGGAATGAGTAACAGAGACTTCCTGGAGGGAGTGTCTGGAGCTACATGGGTTGATCTGGTACTGGAAGGCGATAGTTGTGTGACCATAATGTCAAAAGACAAGCCAACCATTGATGTCAAAATGATGAACATGGAAGCAGCCAACCTCGCAGATGTGCGCAGTTAC---------------TGTTACCTAGCTTCGGTCAGTGACTTGTCAACAAGAGCTGCGTGTCCAACCATGGGTGAAGCC---------CACAACGAGAAAAGAGCTGACCCCGCCTTCGTTTGCAAGCAAGGCGTTGTGGACAGAGGATGGGGAAATGGCTGCGGACTGTTTGGAAAGGGGAGCATTGACACATGTGCGAAGTTT---GCCTGTACAACCAAAGCAACTGGATGGATCATCCAGAAGGAAAACATCAAGTATGAGGTTGCCATATTTGTGCATGGCCCGACGACCGTT------------GAATCT------------CATGGCAAGATAGGGGCCACCCAGGCTGGAAGATTCAGTATAACTCCATCGGCGCCATCTTACACGCTAAAGTTGGGTGAGTATGGTGAGGTTACGGTTGATTGTGAG------------------------CCACGGTCAGGAATAGACACCAGCGCCTATTACGTTATGTCAGTTGGTGAGAAGTCCTTCCTGGTTCACCGAGAATGGTTTATGGATCTGAACCTG---CCATGGAGCAGTGCTGGAAGCACCACG------------TGGAGGAACCGGGAAACACTGATGGAGTTTGAAGAACCTCATGCC---------------------------ACC------AAACAATCTGTTGTGGCTCTAGGGTCGCAGGAAGGT---------------------GCGTTGCACCAAGCTCTGGCCGGAGCGATTCCTGTTGAGTTCTCAAGC---------------AACACTGTGAAGTTGACATCAGGACATCTGAAGTGTCGGGTGAAGATGGAGAAGTTGCAGCTGAAGGGA---ACAACATAT---------------------GGAGTATGTTCAAAAGCGTTCAAATTCGCTAGGACTCCCGCTGACACTGGCCACGGAACGGTGGTGTTGGAACTGCAA------------------------------------TATACCGGAACAGAC---GGTCCCTGCAAAGTGCCCATTTCTTCCGTAGCTTCCCTGAATGACCTCACA---CCT---GTTGGAAGACTGGTG---------------------ACCGTGAATCCATTTGTGTCTGTGGCCACAGCCAACTCGAAGGTTTTGATTGAACTCGAACCCCCGTTTGGTGACTCTTAC---------------ATCGTGGTGGGAAGAGGAGAACAGCAGATAAACCATCACTGGCACAAATCTGGGAGCAGCATT------------GGAAAGGCC---------------------------------------------------------------------------------------TTTACCACCACACTCAGAGGA---GCTCAACGACTCGCAGCTCTTGGAGATACTGCT---------TGGGAT------------------------------------------------------------------------TTTGGATCAGTTGGA---GGGGTTTTCACCTCAGTGGGGAAAGCC---------ATACACCAAGTC---------TTTGGAGGAGCTTTTAGATCACTCTTTGGAGGGATGTCC---------------------------TGGATCACACAGGGACTTCTGGGA---------GCTCTTCTGTTGTGGATGGGAATCAATGCCCGTGACAGGTCAATTGCTATGACGTTTCTTGCGGTTGGAGGA------GTTTTGCTCTTCCTTTCGGTCAACGTCCATGCTGACACAGGCTGTGCCATTGATATTGGC------AGGCAAGAG---CTCCGGTGCGGAAGTGGAGTGTTT---------------------------ATCCACAACGATGTGGAAGCCTGGATGGATCGTTAC---------------------------------------------------------AAGTTCTACCCGGAGACGCCACAGGGCCTAGCAAAAATTATCCAGAAAGCA---CATGCAGAAGGAGTCTGCGGCTTGCGTTCCGTTTCCAGACTCGAGCACCAAATGTGGGAA------------------------------------------GCCATTAAGGATGAGCTGAACACCCTGTTGAAAGAGAATGGAGTCGACTTGAGTGTCGTGGTGGAAAAACAGAATGGGATGTACAAAGCAGCA---CCAAAACGT---TTGGCTGCC---ACCACCGAAAAA---------CTGGAGATG---GGTTGGAAGGCTTGGGGCAAGAGTATCATCTTTGCGCCAGAACTAGCTAACAACACCTTTGTCATCGACGGTCCTGAGACTGAGGAATGCCCA------------------------ACGGCCAACCGAGCATGGAACAGTATGGAGGTAGAGGACTTTGGA------------------------------TTTGGACTGACAAGCACTCGCATGTTCCTGAGGATTCGGGAAACGAACACAACGGAATGCGACTCGAAGATCATAGGAACCGCCGTCAAGAACAACATGGCTGTGCATAGTGATCTATCATAC------------TGGATAGAGAGCGGACTCAACGACACCTGGAAGCTTGAGAGGGCG---GTTCTAGGAGAAGTCAAA---------------------------------------------------------------------TCATGCACCTGGCCAGAAACCCACACTCTG------TGGGGTGATGGAGTTCTGGAAAGTGATCTCATCATACCCATCACCTTGGCA---------GGACCCAGAAGCAACCACAACAGG---AGACCAGGGTACAAAACTCAGAACCAAGGC---------------------------CCATGGGATGAGGGGCGCGTCGAGATTGACTTT------------------------------------------------------------GACTATTGC---CCAGGA---------ACAACAGTAACTATAAGT---------GACAGTTGCGAA---------------------------------------CACCGTGGACCTGCGGCA------CGCACAACCACTGAGAGTGGGAAGCTCATCACA------------------------------GACTGGTGCTGCAGAAGT---------------------------------TGCACCCTCCCTCCACTGCGCTTCCAG------------ACTGAGAATGGCTGTTGGTATGGAATGGAAATTCGACCTACG------------------------CGGCACGACGAAAAG---ACCCTCGTGCAATCGAGAGTGAATGCATACAACGCCGACATGATTGAT------------------------------CCT---------------------------TTTCAGTTGGGCCTTATGGTCGTGTTCTTGGCCACCCAGGAGGTCCTTCGCAAGAGGTGGACGGCCAAGATCAGCATTCCAGCTATCATGCTTGCACTCCTAGTCCTAGTGTTTGGGGGTATTACGTACACTGATGTCCTGCGATATGTCATTCTCGTCGGCGCCGCGTTTGCTGAAGCA------------------------------------------------AACTCAGGAGGAGACGTCGTGCACTTGGCACTTATGGCTACATTCAAGATTCAACCAGTCTTTCTGGTGGCTTCCTTTTTGAAGGCAAGGTGGACC---------------------------AACCAAGAGAGTATTTTGCTCATGCTTGCAGCTGCTTTCTTCCAAATG---------------------------GCTTACTATGACGCCAAGAATGTTCTGTCA---------------TGGGAAGTGCCTGACGTTTTGAACTCTCTCTCCGTTGCGTGGATG------------------------------------------------------------------------------------------ATTCTCAGAGCTATAAGCTTCACCAACACTTCAAATGTGGTGGTGCCGCTGCTGGCCCTTTTGACA------------------------------------------------------------------------------------------CCTGGATTGAAATGCTTAAACCTTGATGTGTACAGAATTTTGCTACTCATGGTTGGAGTTGGA---------AGCCTCATC---------AAAGAAAAAAGGAGCTCTGCAGCAAAAAAG------------------------------------------AAAGGAGCTTGCCTCATCTGCCTAGCGCTGGCGTCTACAGGAGTGTTC---------------------------AATCCAATGATACTTGCAGCTGGGCTA---------------------ATGGCTTGCGACCCCAACCGCAAGCGGGGCTGGCCTGCTACA------------------------------------------------------------------------------------------------GAAGTGATGACTGCAGTTGGA------CTCATGTTTGCCATCGTTGGGGGTCTGGCAGAA---------------------------------------------------------------------------------------------------------CTTGACATAGAT---TCTATGGCTATCCCC---------------------------------------------------------ATGACCATCGCCGGACTT---------------------------------ATGTTCGCGGCATTTGTCATCTCTGGAAAGTCAACAGACATGTGGATTGAGAGGACGGCTGAC---------------ATTACTTGGGAGAGTGATGCTGAAATCACAGGCTCTAGCGAAAGAGTAGAT---GTGAGG---CTGGATGAT------------------------GATGGAAATTTTCAACTGATGAATGACCCCGGGGCACCATGG---------------------------------------------------------------AAAATTTGGATGCTTAGGATG---------GCCTGCCTGGCGATAAGTGCCTAC------ACACCTTGGGCAATTCTC------------------------CCCTCGGTCATC---------------------------------------------------------------------------GGATTCTGGATAACCCTTCAG---TACACAAAGAGAGGAGGTGTTCTTTGG---------GACACACCATCACCCAAGGAGTACAAGAAGGGTGATACC---ACCACTGGCGTTTACAGAATCATG------------------ACTCGAGGTCTGCTTGGCAGTTACCAAGCTGGAGCCGGAGTGATGGTAGAGGGGGTGTTCCACACACTATGGCACACCACTAAGGGAGCTGCTCTCATGAGTGGTGAGGGACGTCTGGATCCCTACTGG---------------------------------------------------------------------------------GGGAGCGTGAAAGAGGACCGACTTTGCTATGGGGGGCCATGGAAACTCCAACATAAA---------------------TGGAATGGACATGATGAGGTCCAAATGATT------GTCGTGGAGCCAGGGAAAAATGTGAAAAACGTCCAGACCAAGCCCGGAGTGTTTAAGACACCAGAAGGA---GAAATT---------------------------------------GGGGCAGTT------ACGCTAGACTATCCTACC---------------GGAACGTCAGGTTCCCCCATTGTA---GACAAA---AATGGAGATGTGATTGGATTGTATGGGAACGGCGTCATCATGCCTAATGGTTCATACATAAGCGCCATTGTG---------------------CAAGGAGAGAGAATGGAAGAACCGGCACCAGCTGGCTTCGAACCTGAAATGTTGAGGAAGAAACAG---ATCACTGTCCTT------------------------GATCTGCACCCCGGAGCAGGAAAGACACGCAAGATACTTCCCCAAATCATCAAGGAGGCCATCAACAAAAGATTGAGGACGGCTGTGCTGGCACCCACCAGGGTCGTTGCTGCTGAGATGTCTGAGGCC---------------CTGAGAGGACTTCCCATTCGGTACCAA------ACCTCAGCAGTGCACAGA---------------------------------------GAGCACAGTGGAAATGAGATCGTTGATGTCATGTGCCATGCCACCCTCACACACAGGCTGATGTCTCCACACAGAGTCCCCAACTACAAC---CTGTTCATAATGGATGAAGCCCATTTCACGGATCCAGCGAGCATCGCAGCCAGAGGATACATAGCAACCAAGGTTGAATTGGGCGAAGCCGCCGCGATTTTC---------------------------------------------ATGACGGCAACGCCACCCGGGACTTCTGACCCC------------------------------------------------------------------------------------------------------TTTCCAGAGTCTAATGCTCCTATCTCGGACATGCAAACAGAGATCCCAGACAGAGCCTGG------------------------------AACACTGGATATGAATGGATAACTGAGTATGTTGGAAAG------------------------------ACCGTTTGGTTTGTTCCAAGTGTGAAAATGGGAAATGAGATTGCCCTC------------------------------------------------------------------------TGTCTGCAACGGGCGGGGAAGAAGGTTATCCAGCTGAACAGAAAGTCCTATGAGACAGAGTAC------------------------CCCAAGTGTAAGAACGATGATTGGGATTTTGTCATCACCACAGACATATCAGAAATGGGA------------------------------------------------GCCAACTTCAAGGCGAGCAGAGTGATCGAC---AGCCGCAAAAGCGTGAAA---CCCACCATCATTGAG------GAAGGTGATGGAAGAGTCATCCTGGGGGAACCCTCAGCCATCACGGCTGCCAGCGCTGCTCAGCGGAGAGGACGCATAGGAAGAAACCCATCACAAGTTGGTGATGAGTATTGCTATGGAGGGCACACAAATGAGGATGATTCCAACTTTGCTCACTGGACAGAGGCTCGCATCATGCTAGACAACATCAACATGCCGAATGGTCTGGTGGCTCAACTATATCAGCCTGAGCGCGAGAAGGTGTACACCATGGACGGGGAATACAGGCTCAGAGGGGAA---------------GAACGGAAGAACTTCCTTGAATTCCTGAGAACAGCTGATTTA------------------CCAGTCTGGCTCGCTTACAAAGTGGCAGCAGCAGGAATATCATACCATGACCGGAAATGGTGCTTTGATGGACCTCGAACCAACACGATTCTTGAAGACAACAATGAAGTTGAA------------GTCATCACGAAGTTGGGTGAGAGA------------------------AAGATCCTAAGACCCAGGTGGGCAGATGCTAGAGTGTACTCAGACCATCAA---GCTCTAAAGTCCTTCAAAGATTTTGCATCGGGGAAACGATCACAAATCGGGCTCGTTGAGGTGCTCGGGAGAATGCCTGAACACTTCATGGTGAAAACTTGG------GAGGCATTGGACACGATGTATGTGGTGGCGACCGCTGAAAAAGGAGGCCGAGCTCACAGGATGGCTCTTGAGGAGCTACCGGACGCCCTTCAGACAATAGTTTTGATTGCACTATTGAGTGTGATGTCCTTAGGTGTGTTTTTTCTA------------------CTCATGCAAAGGAAG---------------------------GGCATTGGTAAGATTGGCTTGGGAGGAGTA------ATCTTAGGAGCTGCCACATTCTTCTGCTGGATGGCTGAAGTCCCAGGAACGAAAATAGCAGGCATGCTCCTGCTTTCCCTGCTGCTCATGATTGTTTTGATTCCGGAGCCG------------------------------GAAAAGCAGCGCTCACAGACTGATAACCAGCTCGCCGTGTTCTTG------ATCTGTGTGCTCACACTGGTCGGCGCCGTGGCTGCCAATGAAATGGGCTGGCTGGACAAGACCAAGAATGACATTGGCAGCCTGTTGGGGCACAGGCCAGAAGCTAGAGAGACGACCCTGGGAGTT---------GAGAGCTTCTTACTT---GATCTGCGGCCGGCCACGGCATGGTCGCTCTATGCCGTAACGACAGCCGTTCTCACCCCTTTGCTGAAGCATCTAATCACGTCAGACTAC---ATCAACACTTCGTTGACCTCAATAAACGTCCAAGCCAGCGCG---TTGTTCACTTTGGCCAGAGGCTTCCCTTTTGTGGACGTTGGTGTGTCAGCTCTCTTGCTGGCGGTCGGGTGCTGGGGTCAGGTGACTCTGACTGTGACTGTGACTGCAGCTGCTCTGCTCTTT---------------TGCCACTATGCTTACATGGTGCCAGGCTGGCAAGCGGAAGCCATG---CGATCT---GCC---------------------CAGCGGCGGACAGCTGCTGGC---ATCATGAAAAATGTAGTGGTGGATGGGATCGTGGCCACTGATGTACCTGAACTTGAACGAACAACTCCAGTCATGCAGAAAAAAGTTGGACAGATCATATTGATCTTGGTATCAATGGCCGCGGTGGTCGTCAATCCATCAGTGAGAACC------GTCAGAGAGGCCGGAATTCTGACTACAGCA---------GCAGCAGTC---------------------------------------------------------------------------------ACCCTATGGGAGAATGGTGCTAGTTCAGTGTGGAATGCAACGACAGCTATTGGCCTTTGTCAC------ATCATGCGA---------------------------GGAGGATGG---CTCTCGTGTCTCTCCATCATGTGGACT---CTCATCAAAAACATGGAG------------------------------------------------------------------------------------------------AAACCAGGCCTCAAGAGGGGTGGAGCCAAAGGACGCACGCTAGGGGAAGTTTGGAAGGAGAGACTCAACCACATGACGAAGGAAGAATTTACCAGATACAGAAAAGAAGCCATCACTGAAGTTGACCGCTCCGCAGCAAAACAT---GCTAGGAGAGAGGGAAACATCACTGGAGGCCACCCAGTCTCACGGGGAACCGCGAAATTACGGTGGTTAGTGGAAAGGCGTTTCCTCGAGCCA---------GTGGGAAAGGTTGTGGATCTC---------GGGTGTGGTAGAGGCGGCTGGTGCTATTACATGGCTACCCAGAAGAGGGTACAGGAAGTGAAAGGGTACACGAAAGGAGGACCTGGCCATGAAGAA---------CCACAACTGGTGCAGAGCTATGGTTGGAATATTGTTACCATGAAGAGTGGAGTCGACGTCTTCTACAGACCATCAGAAGCGAGCGACACACTGCTCTGTGACATTGGAGAGTCATCGTCAAGTGCCGAGGTAGAAGAACACCGCACCGTCCGTGTCCTGGAGATG---------------GTGGAAGATTGGTTGCACAGAGGACCGAAGGAATTCTGCATCAAAGTGCTATGCCCTTACATGCCCAAAGTG---------------------------ATTGAGAAGATGGAAACACTCCAAAGGCGATATGGAGGTGGCCTTATAAGAAACCCCCTTTCACGCAACTCTACCCATGAGATGTACTGGGTGAGCCACGCTTCAGGCAAT---------------------------ATCGTCCAC------------------TCCGTCAACATGACAAGCCAGGTGCTTCTGGGGAGG---ATGGAAAAG---------------------------AAAACATGGAAGGGACCCCAGTTTGAGGAAGATGTCAACTTGGGAAGTGGAACGCGG---------GCAGTAGGGAAGCCTCTCCTCAATTCTGATACTAGCAAGATCAAGAACCGAATTGAGAGGCTGAAGAAAGAATACAGC---TCC------------ACATGGCACCAG---------------------------------GAT---GCGAACCACCCCTACAGGACCTGGAACTACCACGGAAGCTATGAA------------------------------GTG---------AAACCA---ACC---GGCTCAGCCAGCTCCCTT---GTGAATGGGGTAGTCAGATTACTCTCAAAACCATGGGACACTATCACCAATGTGACCACGATGGCCATGACAGACACCACTCCTTTCGGTCAACAACGAGTGTTCAAGGAAAAGGTGGACACAAAGGCTCCA------------------GAGCCTCCAGAAGGAGTCAAATACGTCCTCAATGAGACC------ACGAACTGGCTGTGGGCTTTTTTAGCC---------------------------------------------------------CGCGATAAGAAACCCAGGATGTGTTCCCGGGAGGAATTTATT---GGAAAAGTCAACAGTAATGCCGCC------------------------------CTAGGAGCGATGTTT---GAAGAACAG---AACCAATGG---AAGAACGCCCGGGAAGCT------------------------GTAGAGGATCCAAAGTTTTGGGAGATGGTGGAT------GAGGAGCGTGAA---GCGCAT---------------------------------------------CTCCGTGGAGAATGCAACACC---------------------TGCATCTACAACATG------------ATGGGAAAGAGAGAGAAGAAGCCTGGAGAGTTCGGCAAAGCTAAAGGCAGCAGAGCCATCTGGTTCATGTGGCTGGGGGCCCGCTTCCTGGAGTTTGAAGCTCTCGGATTCCTCAATGAAGACCAC---------------TGGCTGGGTAGGAAGAACTCAGGAGGAGGAGTTGAAGGCTTAGGACTGCAGAAG------------------------CTCGGGTACATCTTGAAG---------------------------------------------------------------GAAGTTGGAACAAAGCCTGGAGGAAAGGTTTACGCTGATGATACCGCAGGCTGGGACACACGCATCACCAAAGCTGACCTCGAGAATGAAGCGAAGGTTCTTGAACTGCTGGATGGAGAACATCGACGTTTAGCGCGGTCCATCATCGAGCTCACATACCGA---CACAAAGTCGTGAAAGTGATGAGGCCAGCGGCCGACGGGAAAACTGTGATGGACGTCATCTCTAGAGAGGATCAGAGAGGAAGCGGTCAGGTAGTGACTTACGCCCTGAACACCTTCACCAATCTA------------GCAGTTCAGCTGGTCAGAATGATGGAGGGGGAGGGGGTCATTGGACCCGATGATGTTGAAAAACTGGGAAAAGGAAAAGGCCCT---------------------------------------------------------------AAGGTCAGAACCTGGCTGTTTGAGAATGGCGAGGAGCGTCTC---------AGTCGCATGGCCGTCAGCGGTGATGACTGCGTGGTGAAACCTTTGGACGACCGCTTCGCCACATCA---------------------CTACACTTCCTAAATGCTATGTCAAAGGTCCGCAAA---GACATCCAGGAATGGAAACCCTCGACGGGG---------------------TGGTATGACTGGCAG---CAGGTTCCATTCTGTTCAAACCATTTCACGGAACTGATCATGAAGGACGGCAGGACGCTGGTGGTCCCG------TGTCGTGGACAAGACGAGTTGATTGGACGTGCCAGG---ATCTCTCCAGGGGCTGGATGGAATGTGCGCGACACCGCCTGCCTGGCGAAGTCATAC---GCGCAGATGTGG------------------------------------------CTGCTGCTTTATTTCCAC------------------CGTAGAGACCTGAGATTGATGGCC------------AATGCCATCTGTTCCGCTGTGCCTGCCAAC------------------------TGGGTTCCCACAGGG---CGTACCACTTGGTCGATCCACGCAAAAGGAGAATGGATGACGACGGAAGACATGCTCGCAGTCTGGAACAGAGTGTGGATTGAGGAGAATGAGTGGATG---------------GAAGACAAA---ACACCAGTTGAGAGGTGGAGTGATGTTCCATACTCTGGAAAG------------------------AGAGAGGACATTTGGTGTGGCAGTTTGATCGGCACACGAACCCGCGCCACTTGGGCTGAAAATATCCATGTGGCAATCAATCAG---GTCCGTTCAGTG------------------------ATTGGAGAAGAGAAGTATGTGGATTACATGAGCTCCTTGAGGAGGTATGAAGACACCATTGTAGTGGAGGACACTGTTTTGTAAAAG------------------ATAGTA---------------------TTATAG------------------TTAGTTTAGTGTAAATAG---------------------------------------------------------------------------------------------------------GATTTATTG---------AGAATGGAAGTCAGG---------------CCAGATTAATGCTGCCACCGGAAG------------------------------------------------------------------------------TTGAGTAGACGGTGCTGCCTGCGGCTCAACCCCAGGAGGACTGGGTGACCAAAGCTGCGAGGTGATCCACGTAAGCCCTCAGAACCGTCTCGGAAGGAGGACCCCACGTGCTTTAGCCTCAAAGCCCAGTGTCAGACCACACTTTAATGTGCCACTCTGCGGAGAGTGCAGTCTGCGATAGTGCCCCAGGTGGACTGGGTTAACAAAGGCAAAACATCGCCCCACGCGGCCATA------------------------------------------------------------------------------------------------------------ACC---------------------------------------------------------------------------------------------------------------------------------------------------------------------------------------------------------------------------------------------------------------------------------------------------------------------------------------------------------------------------------------------------------------------------------------------------------------------------------------------------------------------------------------------------------------CTGGCTATG---------------GTGTTAACC------------------------------------------------------------------------------------------------------------------------------------------------------------------------------------------------------------------------------------------------------------------------------------------------------------------------------------------------------------------------------------------------------------------------------------------------------------------------------------------------------------------------------------AGGGAG---------------------------------------------------------------AAGGGA------------------------------------------------------CTAGAGGTT------------------AGA------------------------------------------------------------------------------------------GGAGACCCC---------------------------------------------------------------------------------------------------------------------------------------------------------GCG---------------------------------------------------------------------------------------------------------------------------TAAAAA------------------------------AGTGCA------------------------------------------------------------------------------------------------CGGCCCAACTTGGCTGAAGCTGTAAGCCAAGGGAAGGACTAGAGGTTAGAG------------------GAGACC---CCG---------------TGCCAAAAACACCAAAAGAAACAGCAT---------------------------------------------ATTGACACC---------------------------------------------------------------------------------------------------------------------------------TGGGATAGACTAGGGGATCTTCTGCTCTGCACAACCAGCCACACGGCACAGTGCGCC---------------------------------------------------------------------------------------------------------------------------------------------------------------------------------------------------------------------------------------------------------------------------------------------------------------------------------------------------------------------------------------\n"
     ]
    }
   ],
   "source": [
    "print(sequence_dic[\"NC_001563.2\"][2])"
   ]
  },
  {
   "cell_type": "markdown",
   "metadata": {},
   "source": [
    "# Question 4\n",
    "# Determining the dN and dS values"
   ]
  },
  {
   "cell_type": "code",
   "execution_count": 5,
   "metadata": {},
   "outputs": [],
   "source": [
    "codontable = {\n",
    "'ATA':'I', 'ATC':'I', 'ATT':'I', 'ATG':'M',\n",
    "'ACA':'T', 'ACC':'T', 'ACG':'T', 'ACT':'T',\n",
    "'AAC':'N', 'AAT':'N', 'AAA':'K', 'AAG':'K',\n",
    "'AGC':'S', 'AGT':'S', 'AGA':'R', 'AGG':'R',\n",
    "'CTA':'L', 'CTC':'L', 'CTG':'L', 'CTT':'L',\n",
    "'CCA':'P', 'CCC':'P', 'CCG':'P', 'CCT':'P',\n",
    "'CAC':'H', 'CAT':'H', 'CAA':'Q', 'CAG':'Q',\n",
    "'CGA':'R', 'CGC':'R', 'CGG':'R', 'CGT':'R',\n",
    "'GTA':'V', 'GTC':'V', 'GTG':'V', 'GTT':'V',\n",
    "'GCA':'A', 'GCC':'A', 'GCG':'A', 'GCT':'A',\n",
    "'GAC':'D', 'GAT':'D', 'GAA':'E', 'GAG':'E',\n",
    "'GGA':'G', 'GGC':'G', 'GGG':'G', 'GGT':'G',\n",
    "'TCA':'S', 'TCC':'S', 'TCG':'S', 'TCT':'S',\n",
    "'TTC':'F', 'TTT':'F', 'TTA':'L', 'TTG':'L',\n",
    "'TAC':'Y', 'TAT':'Y', 'TAA':'_', 'TAG':'_',\n",
    "'TGC':'C', 'TGT':'C', 'TGA':'_', 'TGG':'W'\n",
    "}"
   ]
  },
  {
   "cell_type": "code",
   "execution_count": 6,
   "metadata": {},
   "outputs": [],
   "source": [
    "original = sequence_dic[\"NC_001563.2\"][2]\n",
    "\n",
    "dS_vals = []\n",
    "dN_vals = []\n",
    "\n",
    "for i in range(0,len(original),3):\n",
    "    if original[i] == '-':#skip in the orginal where there is a gap\n",
    "        continue\n",
    "    else:\n",
    "        dS = 0\n",
    "        dN = 0\n",
    "        \n",
    "        for names, seqs in sequence_dic.items():\n",
    "            if seqs[2][i:i+3] == '---': #skip gaps in reference \n",
    "                continue\n",
    "            elif original[i:i+3] == seqs[2][i:i+3]: #check for matching nucleotide sequence \n",
    "                continue\n",
    "            else:\n",
    "                if seqs[2][i:i+3] not in codontable: #skip over any weird codons\n",
    "                    continue\n",
    "                elif codontable[original[i:i+3]] == codontable[seqs[2][i:i+3]]:\n",
    "                    dS += 1\n",
    "                else:\n",
    "                    dN += 1\n",
    "            \n",
    "        dS_vals.append(dS)\n",
    "        dN_vals.append(dN)\n",
    "\n",
    "\n",
    "\n",
    "    "
   ]
  },
  {
   "cell_type": "markdown",
   "metadata": {},
   "source": [
    "- just checking out that the lengths make sense"
   ]
  },
  {
   "cell_type": "code",
   "execution_count": 7,
   "metadata": {
    "scrolled": false
   },
   "outputs": [
    {
     "data": {
      "text/plain": [
       "3642"
      ]
     },
     "execution_count": 7,
     "metadata": {},
     "output_type": "execute_result"
    }
   ],
   "source": [
    "len(dS_vals)"
   ]
  },
  {
   "cell_type": "code",
   "execution_count": 8,
   "metadata": {
    "scrolled": true
   },
   "outputs": [
    {
     "data": {
      "text/plain": [
       "3642"
      ]
     },
     "execution_count": 8,
     "metadata": {},
     "output_type": "execute_result"
    }
   ],
   "source": [
    "len(dN_vals)"
   ]
  },
  {
   "cell_type": "code",
   "execution_count": 9,
   "metadata": {},
   "outputs": [],
   "source": [
    "import numpy as np"
   ]
  },
  {
   "cell_type": "markdown",
   "metadata": {},
   "source": [
    "# Calculating D and z-scores"
   ]
  },
  {
   "cell_type": "markdown",
   "metadata": {},
   "source": [
    "- orginally I planned on using numpy arrays, but pandas made it easier"
   ]
  },
  {
   "cell_type": "code",
   "execution_count": 10,
   "metadata": {},
   "outputs": [
    {
     "data": {
      "text/html": [
       "<div>\n",
       "<style scoped>\n",
       "    .dataframe tbody tr th:only-of-type {\n",
       "        vertical-align: middle;\n",
       "    }\n",
       "\n",
       "    .dataframe tbody tr th {\n",
       "        vertical-align: top;\n",
       "    }\n",
       "\n",
       "    .dataframe thead th {\n",
       "        text-align: right;\n",
       "    }\n",
       "</style>\n",
       "<table border=\"1\" class=\"dataframe\">\n",
       "  <thead>\n",
       "    <tr style=\"text-align: right;\">\n",
       "      <th></th>\n",
       "      <th>dN</th>\n",
       "      <th>dS</th>\n",
       "      <th>dN/dS</th>\n",
       "      <th>D</th>\n",
       "      <th>log2 ratio</th>\n",
       "      <th>z-score</th>\n",
       "      <th>index</th>\n",
       "    </tr>\n",
       "  </thead>\n",
       "  <tbody>\n",
       "    <tr>\n",
       "      <th>0</th>\n",
       "      <td>160</td>\n",
       "      <td>36</td>\n",
       "      <td>4.444444</td>\n",
       "      <td>124</td>\n",
       "      <td>2.152003</td>\n",
       "      <td>-0.751256</td>\n",
       "      <td>0</td>\n",
       "    </tr>\n",
       "    <tr>\n",
       "      <th>1</th>\n",
       "      <td>50</td>\n",
       "      <td>13</td>\n",
       "      <td>3.846154</td>\n",
       "      <td>37</td>\n",
       "      <td>1.943416</td>\n",
       "      <td>-1.109010</td>\n",
       "      <td>1</td>\n",
       "    </tr>\n",
       "    <tr>\n",
       "      <th>2</th>\n",
       "      <td>200</td>\n",
       "      <td>7</td>\n",
       "      <td>28.571429</td>\n",
       "      <td>193</td>\n",
       "      <td>4.836501</td>\n",
       "      <td>-0.467520</td>\n",
       "      <td>2</td>\n",
       "    </tr>\n",
       "    <tr>\n",
       "      <th>3</th>\n",
       "      <td>212</td>\n",
       "      <td>2</td>\n",
       "      <td>106.000000</td>\n",
       "      <td>210</td>\n",
       "      <td>6.727920</td>\n",
       "      <td>-0.397614</td>\n",
       "      <td>3</td>\n",
       "    </tr>\n",
       "    <tr>\n",
       "      <th>5</th>\n",
       "      <td>212</td>\n",
       "      <td>10</td>\n",
       "      <td>21.200000</td>\n",
       "      <td>202</td>\n",
       "      <td>4.405992</td>\n",
       "      <td>-0.430511</td>\n",
       "      <td>4</td>\n",
       "    </tr>\n",
       "    <tr>\n",
       "      <th>...</th>\n",
       "      <td>...</td>\n",
       "      <td>...</td>\n",
       "      <td>...</td>\n",
       "      <td>...</td>\n",
       "      <td>...</td>\n",
       "      <td>...</td>\n",
       "      <td>...</td>\n",
       "    </tr>\n",
       "    <tr>\n",
       "      <th>3631</th>\n",
       "      <td>1</td>\n",
       "      <td>1</td>\n",
       "      <td>1.000000</td>\n",
       "      <td>0</td>\n",
       "      <td>0.000000</td>\n",
       "      <td>-1.261159</td>\n",
       "      <td>3141</td>\n",
       "    </tr>\n",
       "    <tr>\n",
       "      <th>3637</th>\n",
       "      <td>75</td>\n",
       "      <td>12</td>\n",
       "      <td>6.250000</td>\n",
       "      <td>63</td>\n",
       "      <td>2.643856</td>\n",
       "      <td>-1.002095</td>\n",
       "      <td>3142</td>\n",
       "    </tr>\n",
       "    <tr>\n",
       "      <th>3639</th>\n",
       "      <td>143</td>\n",
       "      <td>5</td>\n",
       "      <td>28.600000</td>\n",
       "      <td>138</td>\n",
       "      <td>4.837943</td>\n",
       "      <td>-0.693687</td>\n",
       "      <td>3143</td>\n",
       "    </tr>\n",
       "    <tr>\n",
       "      <th>3640</th>\n",
       "      <td>405</td>\n",
       "      <td>14</td>\n",
       "      <td>28.928571</td>\n",
       "      <td>391</td>\n",
       "      <td>4.854423</td>\n",
       "      <td>0.346679</td>\n",
       "      <td>3144</td>\n",
       "    </tr>\n",
       "    <tr>\n",
       "      <th>3641</th>\n",
       "      <td>374</td>\n",
       "      <td>32</td>\n",
       "      <td>11.687500</td>\n",
       "      <td>342</td>\n",
       "      <td>3.546894</td>\n",
       "      <td>0.145185</td>\n",
       "      <td>3145</td>\n",
       "    </tr>\n",
       "  </tbody>\n",
       "</table>\n",
       "<p>3146 rows × 7 columns</p>\n",
       "</div>"
      ],
      "text/plain": [
       "       dN  dS       dN/dS    D  log2 ratio   z-score  index\n",
       "0     160  36    4.444444  124    2.152003 -0.751256      0\n",
       "1      50  13    3.846154   37    1.943416 -1.109010      1\n",
       "2     200   7   28.571429  193    4.836501 -0.467520      2\n",
       "3     212   2  106.000000  210    6.727920 -0.397614      3\n",
       "5     212  10   21.200000  202    4.405992 -0.430511      4\n",
       "...   ...  ..         ...  ...         ...       ...    ...\n",
       "3631    1   1    1.000000    0    0.000000 -1.261159   3141\n",
       "3637   75  12    6.250000   63    2.643856 -1.002095   3142\n",
       "3639  143   5   28.600000  138    4.837943 -0.693687   3143\n",
       "3640  405  14   28.928571  391    4.854423  0.346679   3144\n",
       "3641  374  32   11.687500  342    3.546894  0.145185   3145\n",
       "\n",
       "[3146 rows x 7 columns]"
      ]
     },
     "execution_count": 10,
     "metadata": {},
     "output_type": "execute_result"
    }
   ],
   "source": [
    "dn = np.array(dN_vals)\n",
    "ds = np.array(dS_vals)\n",
    "data_values = pd.DataFrame(data = [dn, ds])\n",
    "data_values = data_values.T.rename(columns={0:'dN', 1:'dS'})#Make a frame with the orginal dN and dS list\n",
    "data_values\n",
    "\n",
    "data_values = data_values.loc[data_values[\"dS\"] != 0]#Remove rows where dS is 0\n",
    "data_values = data_values.loc[data_values[\"dN\"] != 0]#Remove rows where dN is 0\n",
    "data_values[\"dN/dS\"] = data_values['dN']/data_values['dS']#calculate the dN/dS ratios\n",
    "data_values['D'] = data_values['dN'] - data_values['dS']#calculate D scores\n",
    "data_values['log2 ratio'] = np.log2(data_values[\"dN/dS\"])#make a column and transform ratios with log2\n",
    "data_values['z-score'] = stats.zscore(data_values['D'])#calculate the z-scores of D values\n",
    "data_values['index'] = range(len(data_values))#was possibly going to use this for graphing purposes\n",
    "\n",
    "data_values\n"
   ]
  },
  {
   "cell_type": "markdown",
   "metadata": {},
   "source": [
    "# Plotting the log2 ratios over the codons, and coloring significant Ds"
   ]
  },
  {
   "cell_type": "code",
   "execution_count": 11,
   "metadata": {
    "scrolled": true
   },
   "outputs": [
    {
     "data": {
      "image/png": "[encoded data removed]",
      "text/plain": [
       "<Figure size 432x288 with 1 Axes>"
      ]
     },
     "metadata": {
      "needs_background": "light"
     },
     "output_type": "display_data"
    }
   ],
   "source": [
    "fig, ax = plt.subplots()\n",
    "\n",
    "#The following z-score represents a p < 0.025, for a two-tailed test\n",
    "colors = ['darkblue' if zscore > 1.96 or zscore < (-1.96) else 'None' for zscore in data_values['z-score']] \n",
    "\n",
    "ax.scatter(x = range(0, len(data_values)), y = data_values['log2 ratio'], color = 'deepskyblue')# non-significant points\n",
    "ax.scatter(x = range(0, len(data_values)), y = data_values['log2 ratio'], color = colors) #The significant points\n",
    "\n",
    "plt.title('dN/dS Selection by Codon')\n",
    "plt.xlabel('Codon')\n",
    "plt.ylabel('Log2 dN/dS')\n",
    "\n",
    "plt.show()"
   ]
  }
 ],
 "metadata": {
  "kernelspec": {
   "display_name": "Python 3",
   "language": "python",
   "name": "python3"
  },
  "language_info": {
   "codemirror_mode": {
    "name": "ipython",
    "version": 3
   },
   "file_extension": ".py",
   "mimetype": "text/x-python",
   "name": "python",
   "nbconvert_exporter": "python",
   "pygments_lexer": "ipython3",
   "version": "3.6.10"
  }
 },
 "nbformat": 4,
 "nbformat_minor": 4
}
